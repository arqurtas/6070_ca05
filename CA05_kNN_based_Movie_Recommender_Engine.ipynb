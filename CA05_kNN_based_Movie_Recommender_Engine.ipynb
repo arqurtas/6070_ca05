{
  "nbformat": 4,
  "nbformat_minor": 0,
  "metadata": {
    "colab": {
      "provenance": []
    },
    "kernelspec": {
      "name": "python3",
      "display_name": "Python 3"
    },
    "language_info": {
      "name": "python"
    }
  },
  "cells": [
    {
      "cell_type": "markdown",
      "source": [
        "**Importing Required Libraries & Understanding Data Set **"
      ],
      "metadata": {
        "id": "TkCaOjbcqLSz"
      }
    },
    {
      "cell_type": "code",
      "source": [
        "import pandas as pd\n",
        "import numpy as np\n",
        "from sklearn.neighbors import NearestNeighbors"
      ],
      "metadata": {
        "id": "4lDTpjrgbznc"
      },
      "execution_count": 113,
      "outputs": []
    },
    {
      "cell_type": "code",
      "execution_count": 114,
      "metadata": {
        "id": "PZxtJKAfbPZV"
      },
      "outputs": [],
      "source": [
        "movies_df = pd.read_csv('https://github.com/ArinB/MSBA-CA-Data/raw/main/CA05/movies_recommendation_data.csv',index_col='Movie Name')  "
      ]
    },
    {
      "cell_type": "code",
      "source": [
        "print(movies_df.head())"
      ],
      "metadata": {
        "id": "EgDrYdeDc73M",
        "colab": {
          "base_uri": "https://localhost:8080/"
        },
        "outputId": "ccb84ffe-a3aa-4c2a-e9e5-d170aa653b1f"
      },
      "execution_count": 115,
      "outputs": [
        {
          "output_type": "stream",
          "name": "stdout",
          "text": [
            "                    Movie ID  IMDB Rating  Biography  Drama  Thriller  Comedy  \\\n",
            "Movie Name                                                                      \n",
            "The Imitation Game        58          8.0          1      1         1       0   \n",
            "Ex Machina                 8          7.7          0      1         0       0   \n",
            "A Beautiful Mind          46          8.2          1      1         0       0   \n",
            "Good Will Hunting         62          8.3          0      1         0       0   \n",
            "Forrest Gump              97          8.8          0      1         0       0   \n",
            "\n",
            "                    Crime  Mystery  History  Label  \n",
            "Movie Name                                          \n",
            "The Imitation Game      0        0        0      0  \n",
            "Ex Machina              0        1        0      0  \n",
            "A Beautiful Mind        0        0        0      0  \n",
            "Good Will Hunting       0        0        0      0  \n",
            "Forrest Gump            0        0        0      0  \n"
          ]
        }
      ]
    },
    {
      "cell_type": "code",
      "source": [
        "movies_df.describe()"
      ],
      "metadata": {
        "colab": {
          "base_uri": "https://localhost:8080/",
          "height": 300
        },
        "id": "5ahllPmkn8_O",
        "outputId": "813a17a9-0d88-4665-8da3-3bd638cd91db"
      },
      "execution_count": 116,
      "outputs": [
        {
          "output_type": "execute_result",
          "data": {
            "text/plain": [
              "        Movie ID  IMDB Rating  Biography      Drama   Thriller     Comedy  \\\n",
              "count  30.000000    30.000000  30.000000  30.000000  30.000000  30.000000   \n",
              "mean   48.133333     7.696667   0.233333   0.600000   0.100000   0.100000   \n",
              "std    29.288969     0.666169   0.430183   0.498273   0.305129   0.305129   \n",
              "min     1.000000     5.900000   0.000000   0.000000   0.000000   0.000000   \n",
              "25%    27.750000     7.300000   0.000000   0.000000   0.000000   0.000000   \n",
              "50%    48.500000     7.750000   0.000000   1.000000   0.000000   0.000000   \n",
              "75%    64.250000     8.175000   0.000000   1.000000   0.000000   0.000000   \n",
              "max    98.000000     8.800000   1.000000   1.000000   1.000000   1.000000   \n",
              "\n",
              "           Crime    Mystery    History  Label  \n",
              "count  30.000000  30.000000  30.000000   30.0  \n",
              "mean    0.133333   0.100000   0.100000    0.0  \n",
              "std     0.345746   0.305129   0.305129    0.0  \n",
              "min     0.000000   0.000000   0.000000    0.0  \n",
              "25%     0.000000   0.000000   0.000000    0.0  \n",
              "50%     0.000000   0.000000   0.000000    0.0  \n",
              "75%     0.000000   0.000000   0.000000    0.0  \n",
              "max     1.000000   1.000000   1.000000    0.0  "
            ],
            "text/html": [
              "\n",
              "  <div id=\"df-8e6c2c2c-4502-47e2-bf5b-3461437ffcc9\">\n",
              "    <div class=\"colab-df-container\">\n",
              "      <div>\n",
              "<style scoped>\n",
              "    .dataframe tbody tr th:only-of-type {\n",
              "        vertical-align: middle;\n",
              "    }\n",
              "\n",
              "    .dataframe tbody tr th {\n",
              "        vertical-align: top;\n",
              "    }\n",
              "\n",
              "    .dataframe thead th {\n",
              "        text-align: right;\n",
              "    }\n",
              "</style>\n",
              "<table border=\"1\" class=\"dataframe\">\n",
              "  <thead>\n",
              "    <tr style=\"text-align: right;\">\n",
              "      <th></th>\n",
              "      <th>Movie ID</th>\n",
              "      <th>IMDB Rating</th>\n",
              "      <th>Biography</th>\n",
              "      <th>Drama</th>\n",
              "      <th>Thriller</th>\n",
              "      <th>Comedy</th>\n",
              "      <th>Crime</th>\n",
              "      <th>Mystery</th>\n",
              "      <th>History</th>\n",
              "      <th>Label</th>\n",
              "    </tr>\n",
              "  </thead>\n",
              "  <tbody>\n",
              "    <tr>\n",
              "      <th>count</th>\n",
              "      <td>30.000000</td>\n",
              "      <td>30.000000</td>\n",
              "      <td>30.000000</td>\n",
              "      <td>30.000000</td>\n",
              "      <td>30.000000</td>\n",
              "      <td>30.000000</td>\n",
              "      <td>30.000000</td>\n",
              "      <td>30.000000</td>\n",
              "      <td>30.000000</td>\n",
              "      <td>30.0</td>\n",
              "    </tr>\n",
              "    <tr>\n",
              "      <th>mean</th>\n",
              "      <td>48.133333</td>\n",
              "      <td>7.696667</td>\n",
              "      <td>0.233333</td>\n",
              "      <td>0.600000</td>\n",
              "      <td>0.100000</td>\n",
              "      <td>0.100000</td>\n",
              "      <td>0.133333</td>\n",
              "      <td>0.100000</td>\n",
              "      <td>0.100000</td>\n",
              "      <td>0.0</td>\n",
              "    </tr>\n",
              "    <tr>\n",
              "      <th>std</th>\n",
              "      <td>29.288969</td>\n",
              "      <td>0.666169</td>\n",
              "      <td>0.430183</td>\n",
              "      <td>0.498273</td>\n",
              "      <td>0.305129</td>\n",
              "      <td>0.305129</td>\n",
              "      <td>0.345746</td>\n",
              "      <td>0.305129</td>\n",
              "      <td>0.305129</td>\n",
              "      <td>0.0</td>\n",
              "    </tr>\n",
              "    <tr>\n",
              "      <th>min</th>\n",
              "      <td>1.000000</td>\n",
              "      <td>5.900000</td>\n",
              "      <td>0.000000</td>\n",
              "      <td>0.000000</td>\n",
              "      <td>0.000000</td>\n",
              "      <td>0.000000</td>\n",
              "      <td>0.000000</td>\n",
              "      <td>0.000000</td>\n",
              "      <td>0.000000</td>\n",
              "      <td>0.0</td>\n",
              "    </tr>\n",
              "    <tr>\n",
              "      <th>25%</th>\n",
              "      <td>27.750000</td>\n",
              "      <td>7.300000</td>\n",
              "      <td>0.000000</td>\n",
              "      <td>0.000000</td>\n",
              "      <td>0.000000</td>\n",
              "      <td>0.000000</td>\n",
              "      <td>0.000000</td>\n",
              "      <td>0.000000</td>\n",
              "      <td>0.000000</td>\n",
              "      <td>0.0</td>\n",
              "    </tr>\n",
              "    <tr>\n",
              "      <th>50%</th>\n",
              "      <td>48.500000</td>\n",
              "      <td>7.750000</td>\n",
              "      <td>0.000000</td>\n",
              "      <td>1.000000</td>\n",
              "      <td>0.000000</td>\n",
              "      <td>0.000000</td>\n",
              "      <td>0.000000</td>\n",
              "      <td>0.000000</td>\n",
              "      <td>0.000000</td>\n",
              "      <td>0.0</td>\n",
              "    </tr>\n",
              "    <tr>\n",
              "      <th>75%</th>\n",
              "      <td>64.250000</td>\n",
              "      <td>8.175000</td>\n",
              "      <td>0.000000</td>\n",
              "      <td>1.000000</td>\n",
              "      <td>0.000000</td>\n",
              "      <td>0.000000</td>\n",
              "      <td>0.000000</td>\n",
              "      <td>0.000000</td>\n",
              "      <td>0.000000</td>\n",
              "      <td>0.0</td>\n",
              "    </tr>\n",
              "    <tr>\n",
              "      <th>max</th>\n",
              "      <td>98.000000</td>\n",
              "      <td>8.800000</td>\n",
              "      <td>1.000000</td>\n",
              "      <td>1.000000</td>\n",
              "      <td>1.000000</td>\n",
              "      <td>1.000000</td>\n",
              "      <td>1.000000</td>\n",
              "      <td>1.000000</td>\n",
              "      <td>1.000000</td>\n",
              "      <td>0.0</td>\n",
              "    </tr>\n",
              "  </tbody>\n",
              "</table>\n",
              "</div>\n",
              "      <button class=\"colab-df-convert\" onclick=\"convertToInteractive('df-8e6c2c2c-4502-47e2-bf5b-3461437ffcc9')\"\n",
              "              title=\"Convert this dataframe to an interactive table.\"\n",
              "              style=\"display:none;\">\n",
              "        \n",
              "  <svg xmlns=\"http://www.w3.org/2000/svg\" height=\"24px\"viewBox=\"0 0 24 24\"\n",
              "       width=\"24px\">\n",
              "    <path d=\"M0 0h24v24H0V0z\" fill=\"none\"/>\n",
              "    <path d=\"M18.56 5.44l.94 2.06.94-2.06 2.06-.94-2.06-.94-.94-2.06-.94 2.06-2.06.94zm-11 1L8.5 8.5l.94-2.06 2.06-.94-2.06-.94L8.5 2.5l-.94 2.06-2.06.94zm10 10l.94 2.06.94-2.06 2.06-.94-2.06-.94-.94-2.06-.94 2.06-2.06.94z\"/><path d=\"M17.41 7.96l-1.37-1.37c-.4-.4-.92-.59-1.43-.59-.52 0-1.04.2-1.43.59L10.3 9.45l-7.72 7.72c-.78.78-.78 2.05 0 2.83L4 21.41c.39.39.9.59 1.41.59.51 0 1.02-.2 1.41-.59l7.78-7.78 2.81-2.81c.8-.78.8-2.07 0-2.86zM5.41 20L4 18.59l7.72-7.72 1.47 1.35L5.41 20z\"/>\n",
              "  </svg>\n",
              "      </button>\n",
              "      \n",
              "  <style>\n",
              "    .colab-df-container {\n",
              "      display:flex;\n",
              "      flex-wrap:wrap;\n",
              "      gap: 12px;\n",
              "    }\n",
              "\n",
              "    .colab-df-convert {\n",
              "      background-color: #E8F0FE;\n",
              "      border: none;\n",
              "      border-radius: 50%;\n",
              "      cursor: pointer;\n",
              "      display: none;\n",
              "      fill: #1967D2;\n",
              "      height: 32px;\n",
              "      padding: 0 0 0 0;\n",
              "      width: 32px;\n",
              "    }\n",
              "\n",
              "    .colab-df-convert:hover {\n",
              "      background-color: #E2EBFA;\n",
              "      box-shadow: 0px 1px 2px rgba(60, 64, 67, 0.3), 0px 1px 3px 1px rgba(60, 64, 67, 0.15);\n",
              "      fill: #174EA6;\n",
              "    }\n",
              "\n",
              "    [theme=dark] .colab-df-convert {\n",
              "      background-color: #3B4455;\n",
              "      fill: #D2E3FC;\n",
              "    }\n",
              "\n",
              "    [theme=dark] .colab-df-convert:hover {\n",
              "      background-color: #434B5C;\n",
              "      box-shadow: 0px 1px 3px 1px rgba(0, 0, 0, 0.15);\n",
              "      filter: drop-shadow(0px 1px 2px rgba(0, 0, 0, 0.3));\n",
              "      fill: #FFFFFF;\n",
              "    }\n",
              "  </style>\n",
              "\n",
              "      <script>\n",
              "        const buttonEl =\n",
              "          document.querySelector('#df-8e6c2c2c-4502-47e2-bf5b-3461437ffcc9 button.colab-df-convert');\n",
              "        buttonEl.style.display =\n",
              "          google.colab.kernel.accessAllowed ? 'block' : 'none';\n",
              "\n",
              "        async function convertToInteractive(key) {\n",
              "          const element = document.querySelector('#df-8e6c2c2c-4502-47e2-bf5b-3461437ffcc9');\n",
              "          const dataTable =\n",
              "            await google.colab.kernel.invokeFunction('convertToInteractive',\n",
              "                                                     [key], {});\n",
              "          if (!dataTable) return;\n",
              "\n",
              "          const docLinkHtml = 'Like what you see? Visit the ' +\n",
              "            '<a target=\"_blank\" href=https://colab.research.google.com/notebooks/data_table.ipynb>data table notebook</a>'\n",
              "            + ' to learn more about interactive tables.';\n",
              "          element.innerHTML = '';\n",
              "          dataTable['output_type'] = 'display_data';\n",
              "          await google.colab.output.renderOutput(dataTable, element);\n",
              "          const docLink = document.createElement('div');\n",
              "          docLink.innerHTML = docLinkHtml;\n",
              "          element.appendChild(docLink);\n",
              "        }\n",
              "      </script>\n",
              "    </div>\n",
              "  </div>\n",
              "  "
            ]
          },
          "metadata": {},
          "execution_count": 116
        }
      ]
    },
    {
      "cell_type": "code",
      "source": [
        "# check for null values\n",
        "print(movies_df.isnull().sum())"
      ],
      "metadata": {
        "colab": {
          "base_uri": "https://localhost:8080/"
        },
        "id": "nufU3VrksHeY",
        "outputId": "522a01c9-e4f2-44f6-e2d9-31f3a935dd77"
      },
      "execution_count": 117,
      "outputs": [
        {
          "output_type": "stream",
          "name": "stdout",
          "text": [
            "Movie ID       0\n",
            "IMDB Rating    0\n",
            "Biography      0\n",
            "Drama          0\n",
            "Thriller       0\n",
            "Comedy         0\n",
            "Crime          0\n",
            "Mystery        0\n",
            "History        0\n",
            "Label          0\n",
            "dtype: int64\n"
          ]
        }
      ]
    },
    {
      "cell_type": "markdown",
      "source": [
        "**Buiding The Own Recommender System**"
      ],
      "metadata": {
        "id": "zSCql_zeqEBY"
      }
    },
    {
      "cell_type": "code",
      "source": [
        "# define x and y variables\n",
        "x = movies_df[['IMDB Rating', 'Biography', 'Drama', 'Thriller', 'Comedy', 'Crime', 'Mystery', 'History']]\n",
        "y = movies_df.index"
      ],
      "metadata": {
        "id": "emmOvQYXpudv"
      },
      "execution_count": 118,
      "outputs": []
    },
    {
      "cell_type": "code",
      "source": [
        "# apply NearestNeighbors function\n",
        "knn = NearestNeighbors(n_neighbors=5).fit(x)"
      ],
      "metadata": {
        "id": "_qkntBPJsa_o"
      },
      "execution_count": 119,
      "outputs": []
    },
    {
      "cell_type": "code",
      "source": [
        "# genre information for movie \"The Post\"\n",
        "the_post = [7.2, 1, 1, 0, 0, 0, 0, 1]"
      ],
      "metadata": {
        "id": "wgQ3QmrNue52"
      },
      "execution_count": 120,
      "outputs": []
    },
    {
      "cell_type": "code",
      "source": [
        "# find 5 similar movies to \"The Post\"\n",
        "distances, indices = knn.kneighbors([the_post])"
      ],
      "metadata": {
        "colab": {
          "base_uri": "https://localhost:8080/"
        },
        "id": "6qoZjOywugj_",
        "outputId": "0f19acc9-883d-4736-d2e2-9bdc2d085b66"
      },
      "execution_count": 121,
      "outputs": [
        {
          "output_type": "stream",
          "name": "stderr",
          "text": [
            "/usr/local/lib/python3.9/dist-packages/sklearn/base.py:439: UserWarning: X does not have valid feature names, but NearestNeighbors was fitted with feature names\n",
            "  warnings.warn(\n"
          ]
        }
      ]
    },
    {
      "cell_type": "code",
      "source": [
        "print(\"Movies Recommended:\")\n",
        "for index in indices[0]:\n",
        "    print(y[index])"
      ],
      "metadata": {
        "colab": {
          "base_uri": "https://localhost:8080/"
        },
        "id": "WwwA-Ob_kFzF",
        "outputId": "74c8b52c-2aa6-4803-d429-b82ad85e83c6"
      },
      "execution_count": 122,
      "outputs": [
        {
          "output_type": "stream",
          "name": "stdout",
          "text": [
            "Movies Recommended:\n",
            "12 Years a Slave\n",
            "Hacksaw Ridge\n",
            "Queen of Katwe\n",
            "The Wind Rises\n",
            "A Beautiful Mind\n"
          ]
        }
      ]
    }
  ]
}